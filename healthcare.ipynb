{
 "cells": [
  {
   "cell_type": "code",
   "execution_count": 3,
   "id": "9df4f8cf-03dd-4355-a7da-c31b552b735c",
   "metadata": {},
   "outputs": [
    {
     "ename": "FileNotFoundError",
     "evalue": "[Errno 2] No such file or directory: 'datasets/housing/insurance.csv'",
     "output_type": "error",
     "traceback": [
      "\u001b[1;31m---------------------------------------------------------------------------\u001b[0m",
      "\u001b[1;31mFileNotFoundError\u001b[0m                         Traceback (most recent call last)",
      "Cell \u001b[1;32mIn[3], line 2\u001b[0m\n\u001b[0;32m      1\u001b[0m \u001b[38;5;28;01mimport\u001b[39;00m \u001b[38;5;21;01mpandas\u001b[39;00m \u001b[38;5;28;01mas\u001b[39;00m \u001b[38;5;21;01mpd\u001b[39;00m\n\u001b[1;32m----> 2\u001b[0m df\u001b[38;5;241m=\u001b[39m\u001b[43mpd\u001b[49m\u001b[38;5;241;43m.\u001b[39;49m\u001b[43mread_csv\u001b[49m\u001b[43m(\u001b[49m\u001b[38;5;124;43m\"\u001b[39;49m\u001b[38;5;124;43mdatasets/housing/insurance.csv\u001b[39;49m\u001b[38;5;124;43m\"\u001b[39;49m\u001b[43m)\u001b[49m\n",
      "File \u001b[1;32m~\\AppData\\Local\\Programs\\Python\\Python312\\Lib\\site-packages\\pandas\\io\\parsers\\readers.py:1026\u001b[0m, in \u001b[0;36mread_csv\u001b[1;34m(filepath_or_buffer, sep, delimiter, header, names, index_col, usecols, dtype, engine, converters, true_values, false_values, skipinitialspace, skiprows, skipfooter, nrows, na_values, keep_default_na, na_filter, verbose, skip_blank_lines, parse_dates, infer_datetime_format, keep_date_col, date_parser, date_format, dayfirst, cache_dates, iterator, chunksize, compression, thousands, decimal, lineterminator, quotechar, quoting, doublequote, escapechar, comment, encoding, encoding_errors, dialect, on_bad_lines, delim_whitespace, low_memory, memory_map, float_precision, storage_options, dtype_backend)\u001b[0m\n\u001b[0;32m   1013\u001b[0m kwds_defaults \u001b[38;5;241m=\u001b[39m _refine_defaults_read(\n\u001b[0;32m   1014\u001b[0m     dialect,\n\u001b[0;32m   1015\u001b[0m     delimiter,\n\u001b[1;32m   (...)\u001b[0m\n\u001b[0;32m   1022\u001b[0m     dtype_backend\u001b[38;5;241m=\u001b[39mdtype_backend,\n\u001b[0;32m   1023\u001b[0m )\n\u001b[0;32m   1024\u001b[0m kwds\u001b[38;5;241m.\u001b[39mupdate(kwds_defaults)\n\u001b[1;32m-> 1026\u001b[0m \u001b[38;5;28;01mreturn\u001b[39;00m \u001b[43m_read\u001b[49m\u001b[43m(\u001b[49m\u001b[43mfilepath_or_buffer\u001b[49m\u001b[43m,\u001b[49m\u001b[43m \u001b[49m\u001b[43mkwds\u001b[49m\u001b[43m)\u001b[49m\n",
      "File \u001b[1;32m~\\AppData\\Local\\Programs\\Python\\Python312\\Lib\\site-packages\\pandas\\io\\parsers\\readers.py:620\u001b[0m, in \u001b[0;36m_read\u001b[1;34m(filepath_or_buffer, kwds)\u001b[0m\n\u001b[0;32m    617\u001b[0m _validate_names(kwds\u001b[38;5;241m.\u001b[39mget(\u001b[38;5;124m\"\u001b[39m\u001b[38;5;124mnames\u001b[39m\u001b[38;5;124m\"\u001b[39m, \u001b[38;5;28;01mNone\u001b[39;00m))\n\u001b[0;32m    619\u001b[0m \u001b[38;5;66;03m# Create the parser.\u001b[39;00m\n\u001b[1;32m--> 620\u001b[0m parser \u001b[38;5;241m=\u001b[39m \u001b[43mTextFileReader\u001b[49m\u001b[43m(\u001b[49m\u001b[43mfilepath_or_buffer\u001b[49m\u001b[43m,\u001b[49m\u001b[43m \u001b[49m\u001b[38;5;241;43m*\u001b[39;49m\u001b[38;5;241;43m*\u001b[39;49m\u001b[43mkwds\u001b[49m\u001b[43m)\u001b[49m\n\u001b[0;32m    622\u001b[0m \u001b[38;5;28;01mif\u001b[39;00m chunksize \u001b[38;5;129;01mor\u001b[39;00m iterator:\n\u001b[0;32m    623\u001b[0m     \u001b[38;5;28;01mreturn\u001b[39;00m parser\n",
      "File \u001b[1;32m~\\AppData\\Local\\Programs\\Python\\Python312\\Lib\\site-packages\\pandas\\io\\parsers\\readers.py:1620\u001b[0m, in \u001b[0;36mTextFileReader.__init__\u001b[1;34m(self, f, engine, **kwds)\u001b[0m\n\u001b[0;32m   1617\u001b[0m     \u001b[38;5;28mself\u001b[39m\u001b[38;5;241m.\u001b[39moptions[\u001b[38;5;124m\"\u001b[39m\u001b[38;5;124mhas_index_names\u001b[39m\u001b[38;5;124m\"\u001b[39m] \u001b[38;5;241m=\u001b[39m kwds[\u001b[38;5;124m\"\u001b[39m\u001b[38;5;124mhas_index_names\u001b[39m\u001b[38;5;124m\"\u001b[39m]\n\u001b[0;32m   1619\u001b[0m \u001b[38;5;28mself\u001b[39m\u001b[38;5;241m.\u001b[39mhandles: IOHandles \u001b[38;5;241m|\u001b[39m \u001b[38;5;28;01mNone\u001b[39;00m \u001b[38;5;241m=\u001b[39m \u001b[38;5;28;01mNone\u001b[39;00m\n\u001b[1;32m-> 1620\u001b[0m \u001b[38;5;28mself\u001b[39m\u001b[38;5;241m.\u001b[39m_engine \u001b[38;5;241m=\u001b[39m \u001b[38;5;28;43mself\u001b[39;49m\u001b[38;5;241;43m.\u001b[39;49m\u001b[43m_make_engine\u001b[49m\u001b[43m(\u001b[49m\u001b[43mf\u001b[49m\u001b[43m,\u001b[49m\u001b[43m \u001b[49m\u001b[38;5;28;43mself\u001b[39;49m\u001b[38;5;241;43m.\u001b[39;49m\u001b[43mengine\u001b[49m\u001b[43m)\u001b[49m\n",
      "File \u001b[1;32m~\\AppData\\Local\\Programs\\Python\\Python312\\Lib\\site-packages\\pandas\\io\\parsers\\readers.py:1880\u001b[0m, in \u001b[0;36mTextFileReader._make_engine\u001b[1;34m(self, f, engine)\u001b[0m\n\u001b[0;32m   1878\u001b[0m     \u001b[38;5;28;01mif\u001b[39;00m \u001b[38;5;124m\"\u001b[39m\u001b[38;5;124mb\u001b[39m\u001b[38;5;124m\"\u001b[39m \u001b[38;5;129;01mnot\u001b[39;00m \u001b[38;5;129;01min\u001b[39;00m mode:\n\u001b[0;32m   1879\u001b[0m         mode \u001b[38;5;241m+\u001b[39m\u001b[38;5;241m=\u001b[39m \u001b[38;5;124m\"\u001b[39m\u001b[38;5;124mb\u001b[39m\u001b[38;5;124m\"\u001b[39m\n\u001b[1;32m-> 1880\u001b[0m \u001b[38;5;28mself\u001b[39m\u001b[38;5;241m.\u001b[39mhandles \u001b[38;5;241m=\u001b[39m \u001b[43mget_handle\u001b[49m\u001b[43m(\u001b[49m\n\u001b[0;32m   1881\u001b[0m \u001b[43m    \u001b[49m\u001b[43mf\u001b[49m\u001b[43m,\u001b[49m\n\u001b[0;32m   1882\u001b[0m \u001b[43m    \u001b[49m\u001b[43mmode\u001b[49m\u001b[43m,\u001b[49m\n\u001b[0;32m   1883\u001b[0m \u001b[43m    \u001b[49m\u001b[43mencoding\u001b[49m\u001b[38;5;241;43m=\u001b[39;49m\u001b[38;5;28;43mself\u001b[39;49m\u001b[38;5;241;43m.\u001b[39;49m\u001b[43moptions\u001b[49m\u001b[38;5;241;43m.\u001b[39;49m\u001b[43mget\u001b[49m\u001b[43m(\u001b[49m\u001b[38;5;124;43m\"\u001b[39;49m\u001b[38;5;124;43mencoding\u001b[39;49m\u001b[38;5;124;43m\"\u001b[39;49m\u001b[43m,\u001b[49m\u001b[43m \u001b[49m\u001b[38;5;28;43;01mNone\u001b[39;49;00m\u001b[43m)\u001b[49m\u001b[43m,\u001b[49m\n\u001b[0;32m   1884\u001b[0m \u001b[43m    \u001b[49m\u001b[43mcompression\u001b[49m\u001b[38;5;241;43m=\u001b[39;49m\u001b[38;5;28;43mself\u001b[39;49m\u001b[38;5;241;43m.\u001b[39;49m\u001b[43moptions\u001b[49m\u001b[38;5;241;43m.\u001b[39;49m\u001b[43mget\u001b[49m\u001b[43m(\u001b[49m\u001b[38;5;124;43m\"\u001b[39;49m\u001b[38;5;124;43mcompression\u001b[39;49m\u001b[38;5;124;43m\"\u001b[39;49m\u001b[43m,\u001b[49m\u001b[43m \u001b[49m\u001b[38;5;28;43;01mNone\u001b[39;49;00m\u001b[43m)\u001b[49m\u001b[43m,\u001b[49m\n\u001b[0;32m   1885\u001b[0m \u001b[43m    \u001b[49m\u001b[43mmemory_map\u001b[49m\u001b[38;5;241;43m=\u001b[39;49m\u001b[38;5;28;43mself\u001b[39;49m\u001b[38;5;241;43m.\u001b[39;49m\u001b[43moptions\u001b[49m\u001b[38;5;241;43m.\u001b[39;49m\u001b[43mget\u001b[49m\u001b[43m(\u001b[49m\u001b[38;5;124;43m\"\u001b[39;49m\u001b[38;5;124;43mmemory_map\u001b[39;49m\u001b[38;5;124;43m\"\u001b[39;49m\u001b[43m,\u001b[49m\u001b[43m \u001b[49m\u001b[38;5;28;43;01mFalse\u001b[39;49;00m\u001b[43m)\u001b[49m\u001b[43m,\u001b[49m\n\u001b[0;32m   1886\u001b[0m \u001b[43m    \u001b[49m\u001b[43mis_text\u001b[49m\u001b[38;5;241;43m=\u001b[39;49m\u001b[43mis_text\u001b[49m\u001b[43m,\u001b[49m\n\u001b[0;32m   1887\u001b[0m \u001b[43m    \u001b[49m\u001b[43merrors\u001b[49m\u001b[38;5;241;43m=\u001b[39;49m\u001b[38;5;28;43mself\u001b[39;49m\u001b[38;5;241;43m.\u001b[39;49m\u001b[43moptions\u001b[49m\u001b[38;5;241;43m.\u001b[39;49m\u001b[43mget\u001b[49m\u001b[43m(\u001b[49m\u001b[38;5;124;43m\"\u001b[39;49m\u001b[38;5;124;43mencoding_errors\u001b[39;49m\u001b[38;5;124;43m\"\u001b[39;49m\u001b[43m,\u001b[49m\u001b[43m \u001b[49m\u001b[38;5;124;43m\"\u001b[39;49m\u001b[38;5;124;43mstrict\u001b[39;49m\u001b[38;5;124;43m\"\u001b[39;49m\u001b[43m)\u001b[49m\u001b[43m,\u001b[49m\n\u001b[0;32m   1888\u001b[0m \u001b[43m    \u001b[49m\u001b[43mstorage_options\u001b[49m\u001b[38;5;241;43m=\u001b[39;49m\u001b[38;5;28;43mself\u001b[39;49m\u001b[38;5;241;43m.\u001b[39;49m\u001b[43moptions\u001b[49m\u001b[38;5;241;43m.\u001b[39;49m\u001b[43mget\u001b[49m\u001b[43m(\u001b[49m\u001b[38;5;124;43m\"\u001b[39;49m\u001b[38;5;124;43mstorage_options\u001b[39;49m\u001b[38;5;124;43m\"\u001b[39;49m\u001b[43m,\u001b[49m\u001b[43m \u001b[49m\u001b[38;5;28;43;01mNone\u001b[39;49;00m\u001b[43m)\u001b[49m\u001b[43m,\u001b[49m\n\u001b[0;32m   1889\u001b[0m \u001b[43m\u001b[49m\u001b[43m)\u001b[49m\n\u001b[0;32m   1890\u001b[0m \u001b[38;5;28;01massert\u001b[39;00m \u001b[38;5;28mself\u001b[39m\u001b[38;5;241m.\u001b[39mhandles \u001b[38;5;129;01mis\u001b[39;00m \u001b[38;5;129;01mnot\u001b[39;00m \u001b[38;5;28;01mNone\u001b[39;00m\n\u001b[0;32m   1891\u001b[0m f \u001b[38;5;241m=\u001b[39m \u001b[38;5;28mself\u001b[39m\u001b[38;5;241m.\u001b[39mhandles\u001b[38;5;241m.\u001b[39mhandle\n",
      "File \u001b[1;32m~\\AppData\\Local\\Programs\\Python\\Python312\\Lib\\site-packages\\pandas\\io\\common.py:873\u001b[0m, in \u001b[0;36mget_handle\u001b[1;34m(path_or_buf, mode, encoding, compression, memory_map, is_text, errors, storage_options)\u001b[0m\n\u001b[0;32m    868\u001b[0m \u001b[38;5;28;01melif\u001b[39;00m \u001b[38;5;28misinstance\u001b[39m(handle, \u001b[38;5;28mstr\u001b[39m):\n\u001b[0;32m    869\u001b[0m     \u001b[38;5;66;03m# Check whether the filename is to be opened in binary mode.\u001b[39;00m\n\u001b[0;32m    870\u001b[0m     \u001b[38;5;66;03m# Binary mode does not support 'encoding' and 'newline'.\u001b[39;00m\n\u001b[0;32m    871\u001b[0m     \u001b[38;5;28;01mif\u001b[39;00m ioargs\u001b[38;5;241m.\u001b[39mencoding \u001b[38;5;129;01mand\u001b[39;00m \u001b[38;5;124m\"\u001b[39m\u001b[38;5;124mb\u001b[39m\u001b[38;5;124m\"\u001b[39m \u001b[38;5;129;01mnot\u001b[39;00m \u001b[38;5;129;01min\u001b[39;00m ioargs\u001b[38;5;241m.\u001b[39mmode:\n\u001b[0;32m    872\u001b[0m         \u001b[38;5;66;03m# Encoding\u001b[39;00m\n\u001b[1;32m--> 873\u001b[0m         handle \u001b[38;5;241m=\u001b[39m \u001b[38;5;28;43mopen\u001b[39;49m\u001b[43m(\u001b[49m\n\u001b[0;32m    874\u001b[0m \u001b[43m            \u001b[49m\u001b[43mhandle\u001b[49m\u001b[43m,\u001b[49m\n\u001b[0;32m    875\u001b[0m \u001b[43m            \u001b[49m\u001b[43mioargs\u001b[49m\u001b[38;5;241;43m.\u001b[39;49m\u001b[43mmode\u001b[49m\u001b[43m,\u001b[49m\n\u001b[0;32m    876\u001b[0m \u001b[43m            \u001b[49m\u001b[43mencoding\u001b[49m\u001b[38;5;241;43m=\u001b[39;49m\u001b[43mioargs\u001b[49m\u001b[38;5;241;43m.\u001b[39;49m\u001b[43mencoding\u001b[49m\u001b[43m,\u001b[49m\n\u001b[0;32m    877\u001b[0m \u001b[43m            \u001b[49m\u001b[43merrors\u001b[49m\u001b[38;5;241;43m=\u001b[39;49m\u001b[43merrors\u001b[49m\u001b[43m,\u001b[49m\n\u001b[0;32m    878\u001b[0m \u001b[43m            \u001b[49m\u001b[43mnewline\u001b[49m\u001b[38;5;241;43m=\u001b[39;49m\u001b[38;5;124;43m\"\u001b[39;49m\u001b[38;5;124;43m\"\u001b[39;49m\u001b[43m,\u001b[49m\n\u001b[0;32m    879\u001b[0m \u001b[43m        \u001b[49m\u001b[43m)\u001b[49m\n\u001b[0;32m    880\u001b[0m     \u001b[38;5;28;01melse\u001b[39;00m:\n\u001b[0;32m    881\u001b[0m         \u001b[38;5;66;03m# Binary mode\u001b[39;00m\n\u001b[0;32m    882\u001b[0m         handle \u001b[38;5;241m=\u001b[39m \u001b[38;5;28mopen\u001b[39m(handle, ioargs\u001b[38;5;241m.\u001b[39mmode)\n",
      "\u001b[1;31mFileNotFoundError\u001b[0m: [Errno 2] No such file or directory: 'datasets/housing/insurance.csv'"
     ]
    }
   ],
   "source": [
    "import pandas as pd\n",
    "df=pd.read_csv(\"datasets/housing/insurance.csv\")"
   ]
  },
  {
   "cell_type": "code",
   "execution_count": null,
   "id": "d100b42b-a17b-43cc-a0ab-3d9ccf486207",
   "metadata": {},
   "outputs": [],
   "source": [
    "df.head()"
   ]
  },
  {
   "cell_type": "code",
   "execution_count": null,
   "id": "8b7ca045-e631-4a0a-b3dd-da6282fc9210",
   "metadata": {},
   "outputs": [],
   "source": [
    "df.info()"
   ]
  },
  {
   "cell_type": "code",
   "execution_count": null,
   "id": "c6ec9962-f012-4e8d-af61-67fca13f3691",
   "metadata": {},
   "outputs": [],
   "source": [
    "df.describe()"
   ]
  },
  {
   "cell_type": "code",
   "execution_count": null,
   "id": "eef1bec8-24e9-4f86-8076-6eda9da575f2",
   "metadata": {},
   "outputs": [],
   "source": [
    "!pip install plotly matplotlib seaborn --quiet \n",
    "# ! tells Jupyter to run the command in the system shell (not Python) and quiet installs the packages silently without showing progress bars or logs."
   ]
  },
  {
   "cell_type": "code",
   "execution_count": null,
   "id": "39d442c5-0f74-4b9a-bb1c-0808d87510c5",
   "metadata": {},
   "outputs": [],
   "source": [
    "import plotly.express as px\n",
    "import plotly.io as pio #Imports the Plotly Input/Output module as pio\n",
    "pio.renderers.default = 'notebook'  # or 'colab', 'iframe', 'browser'\n",
    "import matplotlib\n",
    "import matplotlib.pyplot as plt\n",
    "import seaborn as sns\n",
    "%matplotlib inline "
   ]
  },
  {
   "cell_type": "markdown",
   "id": "99c0a9dd-967e-4443-8043-36a3dd1978d7",
   "metadata": {},
   "source": [
    "%matplotlib inline - tells matplotlib to display the plots inline inside the notebook(right below the code cell)"
   ]
  },
  {
   "cell_type": "code",
   "execution_count": null,
   "id": "539695cf-2447-4c42-b401-8685b3a69f91",
   "metadata": {},
   "outputs": [],
   "source": [
    "fig=px.histogram(df,x='bmi',\n",
    "                 marginal='box', #used for above box plot in the following figure\n",
    "                 color_discrete_sequence=['red'],\n",
    "                 title='Distribution of bmi')\n",
    "fig.update_layout(bargap=0.1)\n",
    "fig.show()"
   ]
  },
  {
   "cell_type": "code",
   "execution_count": null,
   "id": "dadc8e4f-f156-4739-a9ce-36c7191d839d",
   "metadata": {},
   "outputs": [],
   "source": [
    "fig=px.histogram(df,x='charges',\n",
    "                 marginal='box',color='smoker',\n",
    "                 color_discrete_sequence=['red','yellow'],\n",
    "                 title='Distribution of charges with somkers highlighted')\n",
    "fig.update_layout(bargap=0.1)\n",
    "fig.show()"
   ]
  },
  {
   "cell_type": "code",
   "execution_count": null,
   "id": "ebad565c-0223-4e02-8320-a22b48669753",
   "metadata": {},
   "outputs": [],
   "source": [
    "fig=px.histogram(df,x='age',\n",
    "                 marginal='box',color='smoker',\n",
    "                 color_discrete_sequence=['red','yellow'],\n",
    "                 title='Distribution of age with somkers highlighted')\n",
    "fig.update_layout(bargap=0.1)\n",
    "fig.show()"
   ]
  },
  {
   "cell_type": "code",
   "execution_count": null,
   "id": "558a9d13-37d7-44aa-a0cd-ef20af5e24c5",
   "metadata": {},
   "outputs": [],
   "source": [
    "df.value_counts()"
   ]
  },
  {
   "cell_type": "code",
   "execution_count": null,
   "id": "9a4e90b3-262c-4b24-8bbd-f09e095d4171",
   "metadata": {},
   "outputs": [],
   "source": [
    "df.smoker.value_counts()"
   ]
  },
  {
   "cell_type": "code",
   "execution_count": null,
   "id": "052efc93-b152-4951-ae13-ca5d33d1d119",
   "metadata": {},
   "outputs": [],
   "source": [
    "px.histogram(df,x='smoker',color='sex',title='Smokers')"
   ]
  },
  {
   "cell_type": "code",
   "execution_count": null,
   "id": "3612f028-8262-48b2-977b-f4af926b0891",
   "metadata": {},
   "outputs": [],
   "source": [
    "fig=px.scatter(df,x='age',y='charges',color='smoker',opacity=0.5,hover_data=['sex'],title='age vs charges')\n",
    "fig.update_traces(marker_size=5)\n",
    "fig.show()\n",
    "#hover- When you hover your mouse over a data point, it shows additional info from the DataFrame — in this case, the sex of the person.\n",
    "#update_traces-it sets the size of each marker (dot) to 5.\n",
    "#result-three clusters are visible"
   ]
  },
  {
   "cell_type": "code",
   "execution_count": null,
   "id": "36ef7047-e7c8-4df4-b710-f0266ab30c2f",
   "metadata": {},
   "outputs": [],
   "source": [
    "fig=px.scatter(df,x='bmi',y='charges',color='smoker',opacity=0.5,hover_data=['sex'],title='age vs charges')\n",
    "fig.update_traces(marker_size=5)\n",
    "fig.show()"
   ]
  },
  {
   "cell_type": "markdown",
   "id": "d9430835-8579-4794-998f-6f93fe095f96",
   "metadata": {},
   "source": [
    "Since in scattter plot points gets badly overlapped so to get more clear distibution use violin for getting the density"
   ]
  },
  {
   "cell_type": "code",
   "execution_count": null,
   "id": "fb14eb2a-1f25-4425-bcfd-134edb1ebb8f",
   "metadata": {},
   "outputs": [],
   "source": [
    "fig=px.violin(df,x='smoker',y='charges',hover_data=['sex'],title='age vs charges')\n",
    "fig.update_traces(marker_size=5)\n",
    "fig.show()"
   ]
  },
  {
   "cell_type": "markdown",
   "id": "4bf57d4f-77b3-497e-bd06-676aedc254df",
   "metadata": {},
   "source": [
    "Now calculating the correlation of 'charges' feature with other features.\n",
    "The more is the corr absolute value , stronger is the correlation.\n",
    "Negative correlation implies inverse relation(with 'charges').\n",
    "More is the negative correlation , more stronger is the inverse dependence.  \n",
    "Note: The .corr() method only works with numerical features."
   ]
  },
  {
   "cell_type": "code",
   "execution_count": null,
   "id": "0bbece7a-eff8-42f6-883c-8ea49d16c51d",
   "metadata": {},
   "outputs": [],
   "source": [
    "df.charges.corr(df.age)"
   ]
  },
  {
   "cell_type": "code",
   "execution_count": null,
   "id": "763c558d-c01c-4bf8-8902-d6717d617ea7",
   "metadata": {},
   "outputs": [],
   "source": [
    "df.charges.corr(df.bmi)"
   ]
  },
  {
   "cell_type": "code",
   "execution_count": null,
   "id": "34b9e544-642d-446c-b2a4-f4a33a103074",
   "metadata": {},
   "outputs": [],
   "source": [
    "df.charges.corr(df.children)"
   ]
  },
  {
   "cell_type": "code",
   "execution_count": null,
   "id": "c56e5a60-4005-4ca8-a2a4-d3dec613e4e9",
   "metadata": {},
   "outputs": [],
   "source": [
    "smoker_val={'no':0,'yes':1}\n",
    "df['smoker_numeric']=df.smoker.map(smoker_val)\n",
    "df.smoker_numeric"
   ]
  },
  {
   "cell_type": "code",
   "execution_count": null,
   "id": "f39ce26a-422b-412b-891d-2876dc0a1fa8",
   "metadata": {},
   "outputs": [],
   "source": [
    "df.charges.corr(df.smoker_numeric)"
   ]
  },
  {
   "cell_type": "code",
   "execution_count": null,
   "id": "40080108-73ad-4701-b249-eda7dd22f902",
   "metadata": {},
   "outputs": [],
   "source": [
    "#df.corr()-will give error if any column of non numeric entries is there\n",
    "df.select_dtypes(include='number').corr()\n"
   ]
  },
  {
   "cell_type": "code",
   "execution_count": null,
   "id": "3889eb23-b227-4e9c-998f-707111611cc2",
   "metadata": {},
   "outputs": [],
   "source": [
    "sns.heatmap(df.select_dtypes(include='number').corr(),cmap='Reds',annot=True)\n",
    "plt.title('Correlation Matrix')"
   ]
  },
  {
   "cell_type": "code",
   "execution_count": null,
   "id": "f8026f63-8ed9-4b59-9f05-2ee6e0db8668",
   "metadata": {},
   "outputs": [],
   "source": [
    "non_smoker_df=df[df.smoker=='no']"
   ]
  },
  {
   "cell_type": "code",
   "execution_count": null,
   "id": "9af2310e-5542-4654-9ee1-1ec05fde5d4c",
   "metadata": {},
   "outputs": [],
   "source": [
    "plt.title('Age vs charges')\n",
    "sns.scatterplot(data=non_smoker_df, x='age',y='charges',alpha=0.7,s=15);\n",
    "#alpha==opacity,s-size of the mark"
   ]
  },
  {
   "cell_type": "markdown",
   "id": "639300e0-ce23-4c63-bfb0-d94f59396ee3",
   "metadata": {},
   "source": [
    "Manually fitting a linear model."
   ]
  },
  {
   "cell_type": "code",
   "execution_count": null,
   "id": "7e5c86c3-fd77-491f-b3d4-6174b991baef",
   "metadata": {},
   "outputs": [],
   "source": [
    "def estimate_charge(age,w,b):\n",
    "    return w*age+b"
   ]
  },
  {
   "cell_type": "code",
   "execution_count": null,
   "id": "02bad6b7-770e-49bc-82e6-07fa50c9166e",
   "metadata": {},
   "outputs": [],
   "source": [
    "ages=non_smoker_df.age"
   ]
  },
  {
   "cell_type": "code",
   "execution_count": null,
   "id": "385eb3d4-8bc6-4554-b491-4b615e30567d",
   "metadata": {},
   "outputs": [],
   "source": [
    "ages"
   ]
  },
  {
   "cell_type": "code",
   "execution_count": null,
   "id": "a831b8ba-9cf6-4471-8f22-ead54f28ca66",
   "metadata": {},
   "outputs": [],
   "source": [
    "w=40\n",
    "b=100\n",
    "estimate=estimate_charge(ages,w,b)\n",
    "estimate"
   ]
  },
  {
   "cell_type": "code",
   "execution_count": null,
   "id": "55592405-c96a-4152-9509-6fdd0b0ae2b6",
   "metadata": {},
   "outputs": [],
   "source": [
    "a=non_smoker_df.charges\n",
    "a"
   ]
  },
  {
   "cell_type": "code",
   "execution_count": null,
   "id": "60da0b2f-0d1b-4476-a4c4-c405c5fc6e61",
   "metadata": {},
   "outputs": [],
   "source": [
    "plt.plot(ages,estimate,'r-')\n",
    "plt.xlabel('Ages')\n",
    "plt.ylabel('Estimated charges')\n",
    "#r-red colour, +->plused line ,using-instead will give a solid line."
   ]
  },
  {
   "cell_type": "markdown",
   "id": "e0b4e9b4-5a25-49b1-b2f7-21360764758a",
   "metadata": {},
   "source": [
    "Estimated Charges (Line) vs Actual Charges (Scatter)"
   ]
  },
  {
   "cell_type": "code",
   "execution_count": null,
   "id": "b6cb1487-4181-4ed7-8eaf-32f6b8f3379b",
   "metadata": {},
   "outputs": [],
   "source": [
    "target = non_smoker_df.charges\n",
    "plt.plot(ages,estimate,'r',alpha=0.8)\n",
    "plt.scatter(ages,target,s=8,alpha=0.9) #s-size\n",
    "plt.xlabel('Ages')\n",
    "plt.ylabel('Charges')\n",
    "plt.legend(['Estimate','Actual']) #estimate-1st plot command, actual-2nd plot command"
   ]
  },
  {
   "cell_type": "code",
   "execution_count": null,
   "id": "b8242391-6f6a-458c-baaf-aee72c8cde5f",
   "metadata": {},
   "outputs": [],
   "source": [
    "def tryparameters(w,b):\n",
    "    ages=non_smoker_df.age\n",
    "    target=non_smoker_df.charges\n",
    "    estimate=estimate_charge(ages,w,b)\n",
    "    plt.plot(ages,estimate,'r',alpha=0.9)\n",
    "    plt.scatter(ages,target,s=8,alpha=0.8)\n",
    "    plt.xlabel('Age')\n",
    "    plt.ylabel('Charges')\n",
    "    plt.legend(['Estimate','Actual'])"
   ]
  },
  {
   "cell_type": "code",
   "execution_count": null,
   "id": "599a6748-3a45-46d5-9694-2b468d8374fa",
   "metadata": {},
   "outputs": [],
   "source": [
    "tryparameters(200,-1200)"
   ]
  },
  {
   "cell_type": "code",
   "execution_count": null,
   "id": "e44cdd76-8e97-4981-b4f9-2173e4cc731a",
   "metadata": {},
   "outputs": [],
   "source": [
    "import numpy as np\n"
   ]
  },
  {
   "cell_type": "code",
   "execution_count": null,
   "id": "d8d13158-7dfe-4828-9403-473c7a255bc5",
   "metadata": {},
   "outputs": [],
   "source": [
    "target=non_smoker_df.charges\n",
    "prediction=estimate_charge(non_smoker_df.age,200,-1200)"
   ]
  },
  {
   "cell_type": "code",
   "execution_count": null,
   "id": "6cbaaa66-e2a5-45cf-b053-872d2662fccc",
   "metadata": {},
   "outputs": [],
   "source": [
    "def rmse(target,prediction):\n",
    "    return np.sqrt(np.mean(np.square(target-prediction)))"
   ]
  },
  {
   "cell_type": "code",
   "execution_count": null,
   "id": "68b79769-9a0e-4bc8-b75a-9b8c3278328a",
   "metadata": {},
   "outputs": [],
   "source": [
    "rmse(target,prediction)\n",
    "#=> on average , each prediction differs the actual by 5071"
   ]
  },
  {
   "cell_type": "code",
   "execution_count": null,
   "id": "0c3a057e-dfb2-4ec2-9e20-69c96b419e74",
   "metadata": {},
   "outputs": [],
   "source": [
    "def parameters(w,b):\n",
    "    ages=non_smoker_df.age\n",
    "    target=non_smoker_df.charges\n",
    "    estimate=estimate_charge(ages,w,b)\n",
    "    plt.plot(ages,estimate,'r',alpha=0.9)\n",
    "    plt.scatter(ages,target,s=8,alpha=0.8)\n",
    "    plt.xlabel('Age')\n",
    "    plt.ylabel('Charges')\n",
    "    plt.legend(['Estimate','Actual'])\n",
    "    loss=rmse(target,estimate)\n",
    "    print(\"RMSE loss:\",loss)"
   ]
  },
  {
   "cell_type": "code",
   "execution_count": null,
   "id": "1373fafb-d0f9-461b-a497-863660613209",
   "metadata": {},
   "outputs": [],
   "source": [
    "parameters(350,-4000)"
   ]
  },
  {
   "cell_type": "markdown",
   "id": "db95ddec-aea4-4578-9559-7394958ec573",
   "metadata": {},
   "source": [
    "Using Scikit-Learn to Recreate the Above Implementation"
   ]
  },
  {
   "cell_type": "code",
   "execution_count": null,
   "id": "72467992-1514-48ae-a01a-ac0d66e754a9",
   "metadata": {},
   "outputs": [],
   "source": [
    "from sklearn.linear_model import LinearRegression"
   ]
  },
  {
   "cell_type": "code",
   "execution_count": null,
   "id": "7ec9b43a-88cb-4c5e-bc3d-568772acc772",
   "metadata": {},
   "outputs": [],
   "source": [
    "model = LinearRegression()"
   ]
  },
  {
   "cell_type": "code",
   "execution_count": null,
   "id": "890edc19-cb94-4567-a889-4c7583018c04",
   "metadata": {},
   "outputs": [],
   "source": [
    "help(model.fit)"
   ]
  },
  {
   "cell_type": "code",
   "execution_count": null,
   "id": "ed33452d-f3d7-4de0-b542-0c953f73befb",
   "metadata": {},
   "outputs": [],
   "source": [
    "inputs=non_smoker_df[['age']]\n",
    "target=non_smoker_df.charges\n",
    "print(\"inputs shape:\",inputs.shape)\n",
    "print(\"target shape:\",target.shape)"
   ]
  },
  {
   "cell_type": "code",
   "execution_count": null,
   "id": "2221e144-a9f5-451a-b04f-c4934d03735d",
   "metadata": {},
   "outputs": [],
   "source": [
    "model.fit(inputs,target)"
   ]
  },
  {
   "cell_type": "markdown",
   "id": "be33b1c1-1b1d-4452-9dc0-4e0fdffaf1c8",
   "metadata": {},
   "source": [
    "When fitting the linear regression model using Scikit-learn's LinearRegression(), the above default parameters are applied."
   ]
  },
  {
   "cell_type": "code",
   "execution_count": null,
   "id": "3d5fd68e-066b-4ee6-8430-63358afba00a",
   "metadata": {},
   "outputs": [],
   "source": [
    "model.predict([[23],\n",
    "               [21],\n",
    "               [74]])"
   ]
  },
  {
   "cell_type": "markdown",
   "id": "8dda7912-9614-40b7-a1a1-998345df9f67",
   "metadata": {},
   "source": [
    "While applying the model on new data, above warning appeared indicating that the input does not have valid feature names. This occurs when the model is trained using a DataFrame (with named columns), but the new data is passed as a raw list or array. To resolve this, the new input should also be structured as a DataFrame with the same feature names used during training, ensuring correct feature alignment."
   ]
  },
  {
   "cell_type": "code",
   "execution_count": null,
   "id": "944ea90c-9681-4191-870e-8563f9d57a69",
   "metadata": {},
   "outputs": [],
   "source": [
    "predictions =model.predict(inputs)\n",
    "predictions"
   ]
  },
  {
   "cell_type": "code",
   "execution_count": null,
   "id": "59c50b4d-b463-4552-a242-a21e47deb60f",
   "metadata": {},
   "outputs": [],
   "source": [
    "target"
   ]
  },
  {
   "cell_type": "code",
   "execution_count": null,
   "id": "687f0bec-eb45-4310-9f7f-d4f54241e4db",
   "metadata": {},
   "outputs": [],
   "source": [
    "rmse(target,predictions)\n",
    "#this too much rmse below is due to outliers otherwise on other data points the model is pretty good"
   ]
  },
  {
   "cell_type": "code",
   "execution_count": null,
   "id": "1e77fef4-5020-4c02-ba2c-5798dc1746c3",
   "metadata": {},
   "outputs": [],
   "source": [
    "#w \n",
    "model.coef_\n"
   ]
  },
  {
   "cell_type": "code",
   "execution_count": null,
   "id": "d73745f3-f758-4054-a85e-27395491d8a5",
   "metadata": {},
   "outputs": [],
   "source": [
    "#b\n",
    "model.intercept_"
   ]
  },
  {
   "cell_type": "code",
   "execution_count": null,
   "id": "a20a832f-1b89-4dbb-bb78-682469e24b80",
   "metadata": {},
   "outputs": [],
   "source": [
    "tryparameters(model.coef_,model.intercept_)"
   ]
  },
  {
   "cell_type": "markdown",
   "id": "411732d6-ad6e-4426-8ac2-b287f649eb35",
   "metadata": {},
   "source": [
    "Evaluating RMSE with 'age' and 'bmi' as inputs."
   ]
  },
  {
   "cell_type": "code",
   "execution_count": null,
   "id": "f851fe3f-afba-42d4-82f8-1fef26fed040",
   "metadata": {},
   "outputs": [],
   "source": [
    "inputs = non_smoker_df[['age','bmi']]\n",
    "target = non_smoker_df['charges']\n",
    "model=LinearRegression().fit(inputs,target)\n",
    "prediction=model.predict(inputs)\n",
    "print(\"LOss:\",rmse(target,prediction))\n",
    "#there is very less difference in rmse even after adding bmi becuase correlation of bmi and charges was very less"
   ]
  },
  {
   "cell_type": "code",
   "execution_count": null,
   "id": "fe3f2b50-8c3a-43b0-ac61-11c17b90c94b",
   "metadata": {},
   "outputs": [],
   "source": [
    "model.coef_ , model.intercept_"
   ]
  },
  {
   "cell_type": "markdown",
   "id": "f47f8e2d-800d-4d01-a9e2-fa5f21a9e7c6",
   "metadata": {},
   "source": [
    "Finding correlation of 'charges' with 'children' and including it in inputs."
   ]
  },
  {
   "cell_type": "code",
   "execution_count": null,
   "id": "39b9598b-404d-41e0-a896-7dbdfb296815",
   "metadata": {},
   "outputs": [],
   "source": [
    "non_smoker_df.charges.corr(non_smoker_df.children)"
   ]
  },
  {
   "cell_type": "code",
   "execution_count": null,
   "id": "584e6381-24f7-4392-ac64-7b5ad818fab6",
   "metadata": {},
   "outputs": [],
   "source": [
    "fig=px.strip(non_smoker_df,x='children',y='charges',title='Children vs charges')\n",
    "fig.update_traces(marker_size=4,marker_opacity=0.4)\n",
    "fig.show()"
   ]
  },
  {
   "cell_type": "code",
   "execution_count": null,
   "id": "eca828e3-d0dd-4484-a8b0-8eff4ea942d5",
   "metadata": {},
   "outputs": [],
   "source": [
    "inputs = non_smoker_df[['age','bmi','children']]\n",
    "target = non_smoker_df['charges']\n",
    "model=LinearRegression().fit(inputs,target)\n",
    "prediction=model.predict(inputs)\n",
    "print(\"LOss:\",rmse(target,prediction))"
   ]
  },
  {
   "cell_type": "markdown",
   "id": "c64f4180-e364-42d8-8fcb-62ea37ebdd31",
   "metadata": {},
   "source": [
    "Above RMSE is calculated for non_smoker_df but now applying it for whole dataset df."
   ]
  },
  {
   "cell_type": "code",
   "execution_count": null,
   "id": "5360b02f-600a-448c-b84f-8deb8d489f58",
   "metadata": {},
   "outputs": [],
   "source": [
    "inputs = df[['age','bmi','children']] #now applying for whole input data including smokers also\n",
    "target = df['charges']\n",
    "model=LinearRegression().fit(inputs,target)\n",
    "prediction=model.predict(inputs)\n",
    "print(\"LOss:\",rmse(target,prediction))"
   ]
  },
  {
   "cell_type": "markdown",
   "id": "76290418-73ec-4a10-9d72-e6df0b69a5ff",
   "metadata": {},
   "source": [
    "Huge error is observed while taking the same input but for whole dataset.  \n",
    "It is so becuase it learned patterns only from non-smoker data.  \n",
    "Applying it to whole data(including smoker data also) lead to poor predictions."
   ]
  },
  {
   "cell_type": "code",
   "execution_count": null,
   "id": "263f66ed-8045-46f8-93a6-b778d692f7c9",
   "metadata": {},
   "outputs": [],
   "source": [
    "smoker_code=df.smoker_numeric\n",
    "smoker_code"
   ]
  },
  {
   "cell_type": "code",
   "execution_count": null,
   "id": "dc980e97-6883-4ef7-a1c9-02e499403816",
   "metadata": {},
   "outputs": [],
   "source": [
    "df"
   ]
  },
  {
   "cell_type": "code",
   "execution_count": null,
   "id": "d488b02a-0bba-431d-9b79-21c4e1531e9b",
   "metadata": {},
   "outputs": [],
   "source": [
    "type(df)"
   ]
  },
  {
   "cell_type": "code",
   "execution_count": null,
   "id": "d86faac1-5879-4a3f-862f-018351650b0a",
   "metadata": {},
   "outputs": [],
   "source": [
    "df.charges.corr(df.smoker_numeric)"
   ]
  },
  {
   "cell_type": "code",
   "execution_count": null,
   "id": "649ad62a-f3b2-48e6-8e52-2ffc9b0f015d",
   "metadata": {},
   "outputs": [],
   "source": [
    "inputs = non_smoker_df[['age','bmi','children','smoker_numeric']]\n",
    "target = non_smoker_df['charges']\n",
    "model=LinearRegression().fit(inputs,target)\n",
    "prediction=model.predict(inputs)\n",
    "print(\"LOss:\",rmse(target,prediction))"
   ]
  },
  {
   "cell_type": "code",
   "execution_count": null,
   "id": "90ccb10c-3f94-4fba-a28a-1fcd40b31bce",
   "metadata": {},
   "outputs": [],
   "source": [
    "sns.barplot(data=df,x='sex',y='charges')"
   ]
  },
  {
   "cell_type": "code",
   "execution_count": null,
   "id": "3b85871d-c83d-497c-abfe-b76037eccd77",
   "metadata": {},
   "outputs": [],
   "source": [
    "sex_numeric={'female':0,'male':1} #binary categorisation\n",
    "df['sex_numeric']=df.sex.map(sex_numeric)"
   ]
  },
  {
   "cell_type": "code",
   "execution_count": null,
   "id": "e84e1022-a82f-4f3c-ab35-0570b069b9a3",
   "metadata": {},
   "outputs": [],
   "source": [
    "df.sex_numeric"
   ]
  },
  {
   "cell_type": "code",
   "execution_count": null,
   "id": "1835e873-3e3a-4246-9f44-1bb8d63e7a13",
   "metadata": {},
   "outputs": [],
   "source": [
    "df.charges.corr(df.sex_numeric)"
   ]
  },
  {
   "cell_type": "code",
   "execution_count": null,
   "id": "707ef12e-e562-47a3-9d81-d9ec88f0508f",
   "metadata": {},
   "outputs": [],
   "source": [
    "df"
   ]
  },
  {
   "cell_type": "code",
   "execution_count": null,
   "id": "e2a6ef10-0d7c-453f-b985-94adb6a691f9",
   "metadata": {},
   "outputs": [],
   "source": [
    "inputs = df[['age','bmi','children','smoker_numeric','sex_numeric']]\n",
    "target = df['charges']\n",
    "model=LinearRegression().fit(inputs,target)\n",
    "prediction=model.predict(inputs)\n",
    "print(\"LOss:\",rmse(target,prediction))"
   ]
  },
  {
   "cell_type": "code",
   "execution_count": null,
   "id": "bbb665e8-63a5-46b7-b957-49ca2dd6e922",
   "metadata": {
    "scrolled": true
   },
   "outputs": [],
   "source": [
    "#one hot encoding for region\n",
    "sns.barplot(data=df,x='region',y='charges')"
   ]
  },
  {
   "cell_type": "code",
   "execution_count": null,
   "id": "2a231b30-1095-454f-b4d1-1afd0ca2cc86",
   "metadata": {},
   "outputs": [],
   "source": [
    "from sklearn import preprocessing\n",
    "enc=preprocessing.OneHotEncoder() #onehotencoder expects a dataframe(2D)\n",
    "enc.fit(df[['region']]) #using single square bracket will give a series(1D) and not a dataframe\n",
    "enc.categories_"
   ]
  },
  {
   "cell_type": "code",
   "execution_count": null,
   "id": "8dd3b035-6d11-490a-9319-2b4cb1ddabf0",
   "metadata": {},
   "outputs": [],
   "source": [
    "enc.transform([['northeast'],\n",
    "               ['northwest']]).toarray()"
   ]
  },
  {
   "cell_type": "code",
   "execution_count": null,
   "id": "e4d52655-f2f9-4e00-bf1d-d6bd5ccedaf7",
   "metadata": {},
   "outputs": [],
   "source": [
    "one_hot=enc.transform(df[['region']]).toarray()\n",
    "one_hot"
   ]
  },
  {
   "cell_type": "code",
   "execution_count": null,
   "id": "de257546-f3d8-4757-9ca4-96eb7448135f",
   "metadata": {},
   "outputs": [],
   "source": [
    "df[['northeast','northwest','southeast','southwest']]=one_hot"
   ]
  },
  {
   "cell_type": "code",
   "execution_count": null,
   "id": "b0210c3d-3fe3-491c-ac65-f87120d210bc",
   "metadata": {},
   "outputs": [],
   "source": [
    "df"
   ]
  },
  {
   "cell_type": "code",
   "execution_count": null,
   "id": "979e5b87-ef42-4e30-80ed-892cc6efd071",
   "metadata": {},
   "outputs": [],
   "source": [
    "inputs = df[['age','bmi','children','smoker_numeric','sex_numeric','northeast','northwest','southeast','southwest']]\n",
    "target = df['charges']\n",
    "model=LinearRegression().fit(inputs,target)\n",
    "prediction=model.predict(inputs)\n",
    "print(\"LOss:\",rmse(target,prediction))"
   ]
  },
  {
   "cell_type": "code",
   "execution_count": null,
   "id": "6cc8407b-bdb6-4dc7-a27a-b597f57bff0e",
   "metadata": {},
   "outputs": [],
   "source": [
    "inputs.loc[10] #10th index row specifications"
   ]
  },
  {
   "cell_type": "code",
   "execution_count": null,
   "id": "c109d94f-1b29-4814-98eb-53857e878a8e",
   "metadata": {},
   "outputs": [],
   "source": [
    "model.predict([[20,22.4,0,0,0,1,0,0,0]])"
   ]
  },
  {
   "cell_type": "code",
   "execution_count": null,
   "id": "99a63135-ef2a-4ce3-b86f-c226f4354dac",
   "metadata": {},
   "outputs": [],
   "source": [
    "inp_clms=['age','bmi','children','smoker_numeric','sex_numeric','northeast','northwest','southeast','southwest']\n",
    "weights_df=pd.DataFrame({\n",
    "    'feature':np.append(inp_clms,1),\n",
    "    'weights':np.append(model.coef_,model.intercept_)\n",
    "})\n",
    "weights_df"
   ]
  },
  {
   "cell_type": "markdown",
   "id": "cedcc023-9802-4174-b8f9-f40c57d1f0d8",
   "metadata": {},
   "source": [
    "Weights of different features not always imply which features are important because ranges of different features are different. As age can go upto 60 so it can create (60×256) effect but northeast can take max value 1 hence can effect (1×587) only.So to avoid it we need to rescale the data of features with larger range."
   ]
  },
  {
   "cell_type": "code",
   "execution_count": null,
   "id": "3a7ba636-7a25-4141-be4e-2ef2e55e1b23",
   "metadata": {},
   "outputs": [],
   "source": [
    "from sklearn.preprocessing import StandardScaler"
   ]
  },
  {
   "cell_type": "code",
   "execution_count": null,
   "id": "94787ba6-a672-446f-9060-234d052bf1d4",
   "metadata": {},
   "outputs": [],
   "source": [
    "numeric_cols=['age','bmi','children']\n",
    "scaler=StandardScaler()\n",
    "scaler.fit(df[numeric_cols])"
   ]
  },
  {
   "cell_type": "code",
   "execution_count": null,
   "id": "c2e096c5-456a-4fb0-ada4-1ab78d01c114",
   "metadata": {},
   "outputs": [],
   "source": [
    "scaler.mean_"
   ]
  },
  {
   "cell_type": "code",
   "execution_count": null,
   "id": "7af68baa-27a9-41f2-90d0-07a00aebdc88",
   "metadata": {},
   "outputs": [],
   "source": [
    "scaler.var_"
   ]
  },
  {
   "cell_type": "code",
   "execution_count": null,
   "id": "799d6ce3-ece0-4927-ac90-2a156cb679b9",
   "metadata": {},
   "outputs": [],
   "source": [
    "scaled_numeric=scaler.transform(df[numeric_cols])\n",
    "scaled_numeric"
   ]
  },
  {
   "cell_type": "code",
   "execution_count": null,
   "id": "51e638d7-b514-4c3d-b101-9993184b092c",
   "metadata": {},
   "outputs": [],
   "source": [
    "cat_colms=['smoker_numeric','sex_numeric','northeast','northwest','southeast','southwest']\n",
    "categorical_data=df[cat_colms].values"
   ]
  },
  {
   "cell_type": "code",
   "execution_count": null,
   "id": "806f08ab-dfbf-4183-9b69-e5dbc98407ca",
   "metadata": {},
   "outputs": [],
   "source": [
    "inputs.iloc[0]"
   ]
  },
  {
   "cell_type": "code",
   "execution_count": null,
   "id": "17944045-f741-47e7-91d2-d456255c13d4",
   "metadata": {},
   "outputs": [],
   "source": [
    "#final_inputs = np.hstack([scaled_numeric, categorical_data])\n",
    "final_inputs=np.concatenate((scaled_numeric,categorical_data),axis=1)"
   ]
  },
  {
   "cell_type": "code",
   "execution_count": null,
   "id": "d08b25c7-5b20-4d7f-a774-3737cad5dcaf",
   "metadata": {},
   "outputs": [],
   "source": [
    "final_inputs[0]"
   ]
  },
  {
   "cell_type": "code",
   "execution_count": null,
   "id": "b8fe25f7-bd96-4bb3-80ce-9d44cfefd12d",
   "metadata": {},
   "outputs": [],
   "source": [
    "targets=df.charges\n",
    "model=LinearRegression().fit(final_inputs,targets)\n",
    "predictions=model.predict(final_inputs)\n",
    "loss=rmse(targets,predictions)\n",
    "print(\"Loss:\",loss)"
   ]
  },
  {
   "cell_type": "code",
   "execution_count": null,
   "id": "e3be3bf6-7581-4b5c-b88a-75d110a6529c",
   "metadata": {
    "scrolled": true
   },
   "outputs": [],
   "source": [
    "weights_df=pd.DataFrame({\n",
    "    'feature':np.append(numeric_cols+cat_colms,1),\n",
    "    'weights':np.append(model.coef_,model.intercept_)\n",
    "})\n",
    "weights_df.sort_values('weights',ascending=False)\n",
    "#1 represents the intercept"
   ]
  },
  {
   "cell_type": "code",
   "execution_count": null,
   "id": "048204bb-cdc1-4a56-8044-ddf7ff388fee",
   "metadata": {},
   "outputs": [],
   "source": [
    "new=[[20,22.4,0,0,0,1,0,0,0]]"
   ]
  },
  {
   "cell_type": "code",
   "execution_count": null,
   "id": "56084f41-93de-408f-94c9-26e73abc62d6",
   "metadata": {},
   "outputs": [],
   "source": [
    "scaler.transform([[20,22.4,0]])"
   ]
  },
  {
   "cell_type": "code",
   "execution_count": null,
   "id": "77e8d247-97fb-416f-8f77-9072d2c819d2",
   "metadata": {},
   "outputs": [],
   "source": [
    "model.predict([[-1.36756307, -1.35556464, -0.90861367,0,0,1,0,0,0]])"
   ]
  },
  {
   "cell_type": "markdown",
   "id": "2a0d8bcc-6c42-46f0-b0c7-53a97a71c02e",
   "metadata": {},
   "source": [
    "Since now , I solved for non smokers which contibutes to the maximum of the dataset .\n",
    "Now let's try for smokers."
   ]
  },
  {
   "cell_type": "code",
   "execution_count": null,
   "id": "28f6ed9e-ac00-438f-83c5-3710d5d5d8ea",
   "metadata": {},
   "outputs": [],
   "source": [
    "smoker_df=df[df.smoker=='yes']"
   ]
  },
  {
   "cell_type": "code",
   "execution_count": null,
   "id": "398bf51d-7c25-4242-b1d2-7fdea4fc7477",
   "metadata": {},
   "outputs": [],
   "source": [
    "ages=smoker_df.age\n",
    "ages"
   ]
  },
  {
   "cell_type": "code",
   "execution_count": null,
   "id": "15e0978d-fd8b-4d1f-8118-16d2a87e6ec8",
   "metadata": {},
   "outputs": [],
   "source": [
    "print(smoker_df.charges)"
   ]
  },
  {
   "cell_type": "code",
   "execution_count": null,
   "id": "cff08a15-38d1-4561-a7ac-5ef749224462",
   "metadata": {},
   "outputs": [],
   "source": [
    "target = smoker_df.charges\n",
    "plt.scatter(ages,target,s=8,alpha=0.9) #s-size\n",
    "plt.xlabel('Ages')\n",
    "plt.ylabel('Charges')\n",
    "#plt.legend(['Estimate','Actual']) estimate-1st plot command, actual-2nd plot command"
   ]
  },
  {
   "cell_type": "code",
   "execution_count": null,
   "id": "d69b6daa-c395-4d1d-ae79-caa7f7d4397c",
   "metadata": {},
   "outputs": [],
   "source": [
    "def parameters(w,b):\n",
    "    ages=smoker_df.age\n",
    "    target=smoker_df.charges\n",
    "    estimate=estimate_charge(ages,w,b)\n",
    "    plt.plot(ages,estimate,'r',alpha=0.9)\n",
    "    plt.scatter(ages,target,s=8,alpha=0.8)\n",
    "    plt.xlabel('Age')\n",
    "    plt.ylabel('Charges')\n",
    "    plt.legend(['Estimate','Actual'])\n",
    "    loss=rmse(target,estimate)\n",
    "    print(\"RMSE loss:\",loss)"
   ]
  },
  {
   "cell_type": "code",
   "execution_count": null,
   "id": "e43dd173-49da-4bfd-b25e-95d7c03ee969",
   "metadata": {},
   "outputs": [],
   "source": [
    "parameters(350,16000)"
   ]
  },
  {
   "cell_type": "markdown",
   "id": "399d314d-216a-46ac-a4f0-e3ffe75520fc",
   "metadata": {},
   "source": [
    "Since it is difficult to fit the data giving the parameters manually. Hence using sklearn with LinersRegression is the better option."
   ]
  },
  {
   "cell_type": "code",
   "execution_count": null,
   "id": "012445f3-2ad7-4861-a7ee-9f819244837d",
   "metadata": {},
   "outputs": [],
   "source": [
    "from sklearn.linear_model import LinearRegression"
   ]
  },
  {
   "cell_type": "code",
   "execution_count": null,
   "id": "7311e4d5-ec0f-4d76-b1ce-6dbf2ccf8187",
   "metadata": {},
   "outputs": [],
   "source": [
    "model=LinearRegression()"
   ]
  },
  {
   "cell_type": "code",
   "execution_count": null,
   "id": "646bc792-adce-43fd-adc2-8759d8560942",
   "metadata": {},
   "outputs": [],
   "source": [
    "inputs=smoker_df[['age']]\n",
    "target=smoker_df.charges\n",
    "print(\"inputs shape:\",inputs.shape)\n",
    "print(\"target shape:\",target.shape)"
   ]
  },
  {
   "cell_type": "code",
   "execution_count": null,
   "id": "49dda1ae-9a52-4ba9-9881-6e6e0210faad",
   "metadata": {},
   "outputs": [],
   "source": [
    "model.fit(inputs,target)"
   ]
  },
  {
   "cell_type": "code",
   "execution_count": null,
   "id": "1063c1cf-1494-4abd-bac7-c02a01346420",
   "metadata": {},
   "outputs": [],
   "source": [
    "predictions =model.predict(inputs)\n",
    "predictions"
   ]
  },
  {
   "cell_type": "code",
   "execution_count": null,
   "id": "a63721ac-2113-4965-95db-535e2f4704fc",
   "metadata": {},
   "outputs": [],
   "source": [
    "target"
   ]
  },
  {
   "cell_type": "code",
   "execution_count": null,
   "id": "1d3ebb63-1792-478c-97f8-3747218c7a8a",
   "metadata": {},
   "outputs": [],
   "source": [
    "rmse(target,predictions)"
   ]
  },
  {
   "cell_type": "code",
   "execution_count": null,
   "id": "82d2cc9b-b8aa-44c8-944d-264a4cf582a7",
   "metadata": {},
   "outputs": [],
   "source": [
    "inputs = smoker_df[['age','bmi']]\n",
    "target = smoker_df['charges']\n",
    "model=LinearRegression().fit(inputs,target)\n",
    "prediction=model.predict(inputs)\n",
    "print(\"LOss:\",rmse(target,prediction))\n"
   ]
  },
  {
   "cell_type": "code",
   "execution_count": null,
   "id": "dd777b17-3da6-4302-a297-13e71dbc94fe",
   "metadata": {},
   "outputs": [],
   "source": [
    "# Correlation of all numeric features in smoker_df with 'charges'\n",
    "correlations = smoker_df.corr(numeric_only=True)['charges'].sort_values(ascending=False)\n",
    "print(correlations)\n"
   ]
  },
  {
   "cell_type": "code",
   "execution_count": null,
   "id": "f450b84c-c575-426e-9b85-589951625e50",
   "metadata": {},
   "outputs": [],
   "source": [
    "# Correlation of all numeric features in non_smoker_df with 'charges'\n",
    "correlations = non_smoker_df.corr(numeric_only=True)['charges'].sort_values(ascending=False)\n",
    "print(correlations)\n"
   ]
  },
  {
   "cell_type": "markdown",
   "id": "b7f4c1ce-c2ce-4f76-ac13-117455141ed2",
   "metadata": {},
   "source": [
    "BMI plays major role in smoker_df but not in non_smoker_df."
   ]
  },
  {
   "cell_type": "code",
   "execution_count": null,
   "id": "65982ead-37bf-4d4f-805a-4763c656a46c",
   "metadata": {},
   "outputs": [],
   "source": [
    "inputs = smoker_df[['age','bmi','southeast']]\n",
    "target = smoker_df['charges']\n",
    "model=LinearRegression().fit(inputs,target)\n",
    "prediction=model.predict(inputs)\n",
    "print(\"LOss:\",rmse(target,prediction))"
   ]
  },
  {
   "cell_type": "code",
   "execution_count": null,
   "id": "9f9c37b8-285c-471e-aa8a-4fed2d3c0886",
   "metadata": {},
   "outputs": [],
   "source": [
    "def evaluate_features_one_by_one(df, feature_list, target_col):\n",
    "    print(\"Evaluating feature combinations:\\n\")\n",
    "    selected_features = []\n",
    "\n",
    "    for feature in feature_list:\n",
    "        selected_features.append(feature)\n",
    "\n",
    "        inputs = df[selected_features]\n",
    "        target = df[target_col]\n",
    "\n",
    "        model = LinearRegression().fit(inputs, target)\n",
    "        prediction = model.predict(inputs)\n",
    "\n",
    "        loss = rmse(target, prediction)\n",
    "        print(f\"Features: {selected_features} --> RMSE: {loss:.2f}\")\n",
    "features = ['bmi', 'age', 'southeast', 'sex_numeric', 'children','southwest','northwest','northeast']\n",
    "evaluate_features_one_by_one(smoker_df, features, target_col='charges')"
   ]
  },
  {
   "cell_type": "code",
   "execution_count": null,
   "id": "428873e2-97b4-4b44-b38f-74d23ccef660",
   "metadata": {},
   "outputs": [],
   "source": [
    "non_smoker_df=df[df.smoker=='no']"
   ]
  },
  {
   "cell_type": "code",
   "execution_count": null,
   "id": "b9002f15-10fb-4b7f-8954-831d867c9e2a",
   "metadata": {},
   "outputs": [],
   "source": [
    "def evaluate_features_one_by_one(df, feature_list, target_col):\n",
    "    print(\"Evaluating feature combinations:\\n\")\n",
    "    selected_features = []\n",
    "\n",
    "    for feature in feature_list:\n",
    "        selected_features.append(feature)\n",
    "\n",
    "        inputs = df[selected_features]\n",
    "        target = df[target_col]\n",
    "\n",
    "        model = LinearRegression().fit(inputs, target)\n",
    "        prediction = model.predict(inputs)\n",
    "\n",
    "        loss = rmse(target, prediction)\n",
    "        print(f\"Features: {selected_features} --> RMSE: {loss:.2f}\")\n",
    "features = ['bmi', 'age', 'southeast', 'sex_numeric', 'children','southwest','northwest','northeast']\n",
    "evaluate_features_one_by_one(non_smoker_df, features, target_col='charges')"
   ]
  },
  {
   "cell_type": "code",
   "execution_count": null,
   "id": "3eec2d9c-0db9-483d-add8-8a442c90ef13",
   "metadata": {},
   "outputs": [],
   "source": [
    "def evaluate_features_one_by_one(df, feature_list, target_col):\n",
    "    print(\"Evaluating feature combinations:\\n\")\n",
    "    selected_features = []\n",
    "\n",
    "    for feature in feature_list:\n",
    "        selected_features.append(feature)\n",
    "\n",
    "        inputs = df[selected_features]\n",
    "        target = df[target_col]\n",
    "\n",
    "        model = LinearRegression().fit(inputs, target)\n",
    "        prediction = model.predict(inputs)\n",
    "\n",
    "        loss = rmse(target, prediction)\n",
    "        print(f\"Features: {selected_features} --> RMSE: {loss:.2f}\")\n",
    "features = ['bmi', 'age', 'southeast', 'sex_numeric', 'children','southwest','northwest','northeast']\n",
    "evaluate_features_one_by_one(df, features, target_col='charges')"
   ]
  },
  {
   "cell_type": "markdown",
   "id": "c338ee37-2cfd-4c7c-8c59-ed0df058d10b",
   "metadata": {},
   "source": [
    "As giving combined dataset(df) including smoker and non smoker gives more error hence it is better to give separate inputs in the form of smoker_df and \n",
    "non_smoker_df."
   ]
  },
  {
   "cell_type": "code",
   "execution_count": null,
   "id": "91d0dc91-f248-4640-a254-c716eb7f16ae",
   "metadata": {},
   "outputs": [],
   "source": []
  }
 ],
 "metadata": {
  "kernelspec": {
   "display_name": "Python 3 (ipykernel)",
   "language": "python",
   "name": "python3"
  },
  "language_info": {
   "codemirror_mode": {
    "name": "ipython",
    "version": 3
   },
   "file_extension": ".py",
   "mimetype": "text/x-python",
   "name": "python",
   "nbconvert_exporter": "python",
   "pygments_lexer": "ipython3",
   "version": "3.12.0"
  }
 },
 "nbformat": 4,
 "nbformat_minor": 5
}
